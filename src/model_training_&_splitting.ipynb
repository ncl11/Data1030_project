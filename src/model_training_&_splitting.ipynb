{
 "cells": [
  {
   "cell_type": "code",
   "execution_count": 45,
   "metadata": {},
   "outputs": [],
   "source": [
    "import pandas as pd\n",
    "import matplotlib\n",
    "from matplotlib import pylab as plt\n",
    "import numpy as np\n",
    "from sklearn.preprocessing import OneHotEncoder\n",
    "from sklearn.preprocessing import StandardScaler\n",
    "from sklearn.linear_model import LinearRegression\n",
    "from sklearn.metrics import mean_squared_error\n",
    "from sklearn.metrics import r2_score\n",
    "from matplotlib import pylab as plt\n",
    "from sklearn.linear_model import Lasso\n",
    "from sklearn.metrics import mean_squared_error\n",
    "from sklearn.metrics import r2_score\n",
    "from  sklearn.linear_model import Ridge\n",
    "from sklearn.linear_model import ElasticNet\n",
    "from sklearn.ensemble import RandomForestRegressor\n",
    "from sklearn.svm import SVR\n",
    "from sklearn.neighbors import KNeighborsRegressor\n",
    "import xgboost"
   ]
  },
  {
   "cell_type": "code",
   "execution_count": 13,
   "metadata": {},
   "outputs": [],
   "source": [
    "df2 = pd.read_csv('../data/df_pre_splitting.csv')"
   ]
  },
  {
   "cell_type": "code",
   "execution_count": 15,
   "metadata": {},
   "outputs": [],
   "source": [
    "df2['Cohort'] = df2['Cohort'].astype(str)"
   ]
  },
  {
   "cell_type": "code",
   "execution_count": 16,
   "metadata": {},
   "outputs": [],
   "source": [
    "# wrote custom splitting function due to issues with getting sklearn to split based on year\n",
    "def ts_train_test_spl(data):\n",
    "    \"\"\"Splits by year and transforms data for time series.\"\"\"\n",
    "    years = []\n",
    "    d = {}\n",
    "    for year in sorted(data['Cohort'].unique())[1:]:\n",
    "               \n",
    "        train = data[data['Cohort'] <= str(int(year) -1)]\n",
    "        y_train = train[['y']]\n",
    "        val = data[data['Cohort'] == year]\n",
    "        y_val = val[['y']]\n",
    "        train = train.drop('y', axis=1)\n",
    "        val = val.drop('y', axis=1)\n",
    " \n",
    "\n",
    "        onehot_ftrs = ['BORO']\n",
    "        enc = OneHotEncoder(sparse=False,handle_unknown='ignore')\n",
    "        enc.fit(train[onehot_ftrs])\n",
    "        \n",
    "        onehot_train = enc.transform(train[onehot_ftrs])\n",
    "        onehot_val = enc.transform(val[onehot_ftrs])\n",
    "        onehot_train = pd.DataFrame(onehot_train)\n",
    "        onehot_val = pd.DataFrame(onehot_val)\n",
    "\n",
    "        train = train.reset_index(drop=True)\n",
    "        val = val.reset_index(drop=True)\n",
    "        \n",
    "        train2 = pd.concat([pd.DataFrame(train), pd.DataFrame(onehot_train)],ignore_index=True, axis = 1)\n",
    "        train2.columns = list(train.columns) + list(enc.get_feature_names(onehot_ftrs))\n",
    "        val2 = pd.concat([pd.DataFrame(val), pd.DataFrame(onehot_val)],ignore_index=True, axis = 1)\n",
    "        val2.columns = list(val.columns) + list(enc.get_feature_names(onehot_ftrs))\n",
    "        \n",
    "        std_ftrs = ['Cohort', 'Total Cohort', 'Total Grads - n',\n",
    "       'Total Grads - % of cohort', 'Total Regents - n',\n",
    "       'Total Regents - % of cohort', 'Total Regents - % of grads',\n",
    "       'Advanced Regents - n', 'Advanced Regents - % of cohort',\n",
    "       'Advanced Regents - % of grads', 'Regents w/o Advanced - n',\n",
    "       'Regents w/o Advanced - % of cohort',\n",
    "       'Regents w/o Advanced - % of grads', 'Local - n', 'Local - % of cohort',\n",
    "       'Local - % of grads', 'Still Enrolled - n',\n",
    "       'Still Enrolled - % of cohort', 'Dropped Out - n',\n",
    "       'Dropped Out - % of cohort', 'Income']\n",
    "        \n",
    "        std_target = ['y']\n",
    "        \n",
    "        scaler = StandardScaler()\n",
    "        train_t = scaler.fit_transform(train2[std_ftrs])\n",
    "        val_t = scaler.transform(val2[std_ftrs])\n",
    "        \n",
    "        df_train = pd.concat([train2[['BORO_K', 'BORO_M', 'BORO_Q', 'BORO_R', 'BORO_X']], pd.DataFrame(train_t)],ignore_index=True, axis = 1)\n",
    "        df_train.columns = ['BORO_K', 'BORO_M', 'BORO_Q', 'BORO_R', 'BORO_X'] + std_ftrs\n",
    "        \n",
    "        df_val = pd.concat([val2[['BORO_K', 'BORO_M', 'BORO_Q', 'BORO_R', 'BORO_X']], pd.DataFrame(val_t)],ignore_index=True, axis = 1)\n",
    "        df_val.columns = ['BORO_K', 'BORO_M', 'BORO_Q', 'BORO_R', 'BORO_X'] + std_ftrs\n",
    "        \n",
    "        d[year] = [df_train, y_train, df_val, y_val] \n",
    "    return d\n",
    "dictionary = ts_train_test_spl(df2)"
   ]
  },
  {
   "cell_type": "code",
   "execution_count": 47,
   "metadata": {},
   "outputs": [
    {
     "name": "stdout",
     "output_type": "stream",
     "text": [
      "2002\n",
      "mean:  y    55.542056\n",
      "dtype: float64\n",
      "   train RMSE: 21.155499218274798\n",
      "   test RMSE: 22.29433412512326\n",
      "2003\n",
      "mean:  y    56.626991\n",
      "dtype: float64\n",
      "   train RMSE: 21.749476176581215\n",
      "   test RMSE: 21.77536079177835\n",
      "2004\n",
      "mean:  y    58.252276\n",
      "dtype: float64\n",
      "   train RMSE: 21.805151202373782\n",
      "   test RMSE: 22.379908368283523\n"
     ]
    }
   ],
   "source": [
    "def baseline(d):\n",
    "    \"\"\"computes baseline for each split based on a baseline model which predicts the mean\"\"\"\n",
    "    dates = ['2002', '2003', '2004']\n",
    "    for date in dates:\n",
    "        print(date)\n",
    "        \n",
    "        mean = np.mean(d[date][1])\n",
    "        print('mean: ', mean)\n",
    "\n",
    "        y_train_pred = [mean for i in range(len(d[date][1]))]\n",
    "        y_test_pred = [mean for i in range(len(d[str(int(date)+1)][3]))]\n",
    "\n",
    "        train_rmse = mean_squared_error(d[date][1], y_train_pred,squared = False)\n",
    "        train_r2 = r2_score(d[date][1],y_train_pred)\n",
    "\n",
    "        test_rmse = mean_squared_error(d[str(int(date)+1)][3], y_test_pred, squared = False)\n",
    "        \n",
    "        print('   train RMSE:',(train_rmse))\n",
    "        print('   test RMSE:',(test_rmse))\n",
    "baseline(dictionary)"
   ]
  },
  {
   "cell_type": "code",
   "execution_count": 29,
   "metadata": {},
   "outputs": [
    {
     "name": "stdout",
     "output_type": "stream",
     "text": [
      "2002\n",
      "   train RMSE: 7.682535479923393\n",
      "   test RMSE: 11.012817331554686\n",
      "2003\n",
      "   train RMSE: 8.258432402175394\n",
      "   test RMSE: 13.536183328200346\n",
      "2004\n",
      "   train RMSE: 8.745924836652728\n",
      "   test RMSE: 11.218994724715033\n"
     ]
    }
   ],
   "source": [
    "def reg_fit(d):\n",
    "    dates = ['2002', '2003', '2004']\n",
    "    linreg = LinearRegression(fit_intercept=True)\n",
    "    for date in dates:\n",
    "        linreg.fit(d[date][0], d[date][1])\n",
    "        print(date)\n",
    "    \n",
    "        y_train_pred = linreg.predict(d[date][0])\n",
    "        y_test_pred = linreg.predict(d[str(int(date)+1)][2])\n",
    "\n",
    "        train_rmse = mean_squared_error(d[date][1], y_train_pred,squared = False)\n",
    "        train_r2 = r2_score(d[date][1],y_train_pred)\n",
    "\n",
    "        test_rmse = mean_squared_error(d[str(int(date)+1)][3], y_test_pred, squared = False)\n",
    "        test_r2 = r2_score(d[str(int(date)+1)][3], y_test_pred)\n",
    "        \n",
    "        print('   train RMSE:',(train_rmse))\n",
    "        #print('   train R2', train_r2)\n",
    "        print('   test RMSE:',(test_rmse))\n",
    "        #print('   test R2', test_r2)\n",
    "reg_fit(dictionary)  "
   ]
  },
  {
   "cell_type": "code",
   "execution_count": 28,
   "metadata": {},
   "outputs": [
    {
     "name": "stdout",
     "output_type": "stream",
     "text": [
      "2002\n"
     ]
    },
    {
     "data": {
      "image/png": "[encoded data removed]",
      "text/plain": [
       "<Figure size 432x288 with 1 Axes>"
      ]
     },
     "metadata": {
      "needs_background": "light"
     },
     "output_type": "display_data"
    },
    {
     "name": "stdout",
     "output_type": "stream",
     "text": [
      "   min alpha: 0.1\n",
      "   min val rmse: 9.569312894185625\n",
      "test rmse:  9.88089208082889\n",
      "2003\n"
     ]
    },
    {
     "data": {
      "image/png": "[encoded data removed]",
      "text/plain": [
       "<Figure size 432x288 with 1 Axes>"
      ]
     },
     "metadata": {
      "needs_background": "light"
     },
     "output_type": "display_data"
    },
    {
     "name": "stdout",
     "output_type": "stream",
     "text": [
      "   min alpha: 0.1\n",
      "   min val rmse: 9.651879354189212\n",
      "test rmse:  10.78090743255249\n",
      "2004\n"
     ]
    },
    {
     "data": {
      "image/png": "[encoded data removed]",
      "text/plain": [
       "<Figure size 432x288 with 1 Axes>"
      ]
     },
     "metadata": {
      "needs_background": "light"
     },
     "output_type": "display_data"
    },
    {
     "name": "stdout",
     "output_type": "stream",
     "text": [
      "   min alpha: 0.1\n",
      "   min val rmse: 10.203193970701296\n",
      "test rmse:  9.481728599431532\n"
     ]
    }
   ],
   "source": [
    "def lasso_reg(d, alphas):\n",
    "    dates = ['2002', '2003', '2004']\n",
    "    for date in dates:\n",
    "        print(date)\n",
    "        train_rmse_list = []\n",
    "        val_rmse_list = [] \n",
    "        models_list = []\n",
    "        for alpha in alphas:\n",
    "\n",
    "            linreg = Lasso(alpha=alpha, max_iter=100000)\n",
    "            linreg.fit(d[date][0], d[date][1])\n",
    "\n",
    "            y_train_pred = linreg.predict(d[date][0])\n",
    "            y_val_pred = linreg.predict(d[date][2])\n",
    "\n",
    "            train_rmse = mean_squared_error(d[date][1], y_train_pred,squared = False)\n",
    "            train_r2 = r2_score(d[date][1],y_train_pred)\n",
    "\n",
    "            val_rmse = mean_squared_error(d[date][3], y_val_pred, squared = False)\n",
    "            val_r2 = r2_score(d[date][3], y_val_pred)\n",
    "            \n",
    "            train_rmse_list.append(train_rmse)\n",
    "            val_rmse_list.append(val_rmse)\n",
    "\n",
    "        plt.plot(alphas, train_rmse_list, label='Train RMSE')\n",
    "        plt.plot(alphas, val_rmse_list, label='Val RMSE')\n",
    "        #plt.figure(figsize=(8,6))\n",
    "        plt.legend()\n",
    "        plt.xlabel('alphas')\n",
    "        plt.ylabel('RMSE')\n",
    "        plt.semilogx()\n",
    "        plt.title(f\"{date}: Alpha vs RMSE\")\n",
    "        plt.show()\n",
    "        min_index = val_rmse_list.index(min(val_rmse_list))\n",
    "        print(f\"   min alpha: {alphas[min_index]}\")\n",
    "        print(f\"   min val rmse: {val_rmse_list[min_index]}\")\n",
    "\n",
    "        linreg = Lasso(alpha=alphas[min_index], max_iter=100000000)\n",
    "        linreg.fit(d[date][0], d[date][1])\n",
    "\n",
    "        y_test_pred = linreg.predict(d[str(int(date)+1)][2])\n",
    "        test_rmse = mean_squared_error(d[str(int(date)+1)][3], y_test_pred,squared = False)\n",
    "        print('test rmse: ', test_rmse)     \n",
    "\n",
    "alphas = [1e-3, 1e-2, 1e-1, 1e0, 1e1]\n",
    "lasso_reg(dictionary, alphas)"
   ]
  },
  {
   "cell_type": "code",
   "execution_count": 31,
   "metadata": {},
   "outputs": [
    {
     "name": "stdout",
     "output_type": "stream",
     "text": [
      "2002\n"
     ]
    },
    {
     "data": {
      "image/png": "[encoded data removed]",
      "text/plain": [
       "<Figure size 432x288 with 1 Axes>"
      ]
     },
     "metadata": {
      "needs_background": "light"
     },
     "output_type": "display_data"
    },
    {
     "name": "stdout",
     "output_type": "stream",
     "text": [
      "   min alpha: 10.0\n",
      "   min val rmse: 9.400982308821066\n",
      "test rmse:  9.869369494947962\n",
      "2003\n"
     ]
    },
    {
     "data": {
      "image/png": "[encoded data removed]",
      "text/plain": [
       "<Figure size 432x288 with 1 Axes>"
      ]
     },
     "metadata": {
      "needs_background": "light"
     },
     "output_type": "display_data"
    },
    {
     "name": "stdout",
     "output_type": "stream",
     "text": [
      "   min alpha: 100.0\n",
      "   min val rmse: 9.567425008099086\n",
      "test rmse:  10.502732551282861\n",
      "2004\n"
     ]
    },
    {
     "data": {
      "image/png": "[encoded data removed]",
      "text/plain": [
       "<Figure size 432x288 with 1 Axes>"
      ]
     },
     "metadata": {
      "needs_background": "light"
     },
     "output_type": "display_data"
    },
    {
     "name": "stdout",
     "output_type": "stream",
     "text": [
      "   min alpha: 100.0\n",
      "   min val rmse: 10.168489930059852\n",
      "test rmse:  9.562161639539573\n"
     ]
    }
   ],
   "source": [
    "def ridge_reg(d, alphas):\n",
    "    dates = ['2002', '2003', '2004']\n",
    "    for date in dates:\n",
    "        print(date)\n",
    "        train_rmse_list = []\n",
    "        val_rmse_list = [] \n",
    "        models_list = []\n",
    "        for alpha in alphas:\n",
    "            linreg = Ridge(alpha=alpha, max_iter=100000000)\n",
    "            linreg.fit(d[date][0], d[date][1])\n",
    "\n",
    "            y_train_pred = linreg.predict(d[date][0])\n",
    "            y_val_pred = linreg.predict(d[date][2])\n",
    "\n",
    "            train_rmse = mean_squared_error(d[date][1], y_train_pred,squared = False)\n",
    "            train_r2 = r2_score(d[date][1],y_train_pred)\n",
    "\n",
    "            val_rmse = mean_squared_error(d[date][3], y_val_pred, squared = False)\n",
    "            val_r2 = r2_score(d[date][3], y_val_pred)\n",
    "            \n",
    "            train_rmse_list.append(train_rmse)\n",
    "            val_rmse_list.append(val_rmse)\n",
    "\n",
    "        plt.plot(alphas, train_rmse_list, label='Train RMSE')\n",
    "        plt.plot(alphas, val_rmse_list, label='Val RMSE')\n",
    "        plt.legend()\n",
    "        plt.xlabel('alphas')\n",
    "        plt.ylabel('RMSE')\n",
    "        plt.semilogx()\n",
    "\n",
    "        plt.show()\n",
    "        min_index = val_rmse_list.index(min(val_rmse_list))\n",
    "        print(f\"   min alpha: {alphas[min_index]}\")\n",
    "        print(f\"   min val rmse: {val_rmse_list[min_index]}\")\n",
    "        \n",
    "        linreg = Ridge(alpha=alphas[min_index], max_iter=100000000)\n",
    "        linreg.fit(d[date][0], d[date][1])\n",
    "\n",
    "        y_test_pred = linreg.predict(d[str(int(date)+1)][2])\n",
    "        test_rmse = mean_squared_error(d[str(int(date)+1)][3], y_test_pred,squared = False)\n",
    "        print('test rmse: ', test_rmse)\n",
    "        \n",
    "alphas = [1e-2, 1e-1, 1e0, 1e1, 1e2, 1e3]\n",
    "ridge_reg(dictionary, alphas)"
   ]
  },
  {
   "cell_type": "code",
   "execution_count": 34,
   "metadata": {},
   "outputs": [
    {
     "name": "stdout",
     "output_type": "stream",
     "text": [
      "2002\n",
      "  min alpha: 0.1, min l1: 0.40000000006\n",
      "  min val rmse: 9.375193130436292\n",
      "test rmse:  9.85821202618577\n",
      "2003\n",
      "  min alpha: 0.1, min l1: 1e-10\n",
      "  min val rmse: 9.546883129677113\n",
      "test rmse:  10.556346991126956\n",
      "2004\n",
      "  min alpha: 0.1, min l1: 1e-10\n",
      "  min val rmse: 10.185887599732284\n",
      "test rmse:  9.539393219134636\n"
     ]
    }
   ],
   "source": [
    "def elastic_reg(d, alphas, l1_ratio):\n",
    "    dates = ['2002', '2003', '2004']\n",
    "    for date in dates:\n",
    "        print(date)\n",
    "        train_rmse_list = []\n",
    "        val_rmse_list = [] \n",
    "\n",
    "        for alpha in alphas: \n",
    "            for ratio in l1_ratio:\n",
    "\n",
    "                linreg = ElasticNet(alpha=alpha, l1_ratio= ratio, max_iter=1000000000)\n",
    "                linreg.fit(d[date][0], d[date][1])\n",
    "\n",
    "                y_train_pred = linreg.predict(d[date][0])\n",
    "                y_val_pred = linreg.predict(d[date][2])\n",
    "\n",
    "                train_rmse = mean_squared_error(d[date][1], y_train_pred,squared = False)\n",
    "                train_r2 = r2_score(d[date][1],y_train_pred)\n",
    "\n",
    "                val_rmse = mean_squared_error(d[date][3], y_val_pred, squared = False)\n",
    "                val_r2 = r2_score(d[date][3], y_val_pred)\n",
    "\n",
    "                train_rmse_list.append((train_rmse, alpha, ratio))\n",
    "                val_rmse_list.append((val_rmse, alpha, ratio))\n",
    "\n",
    "        min_score = min(val_rmse_list, key = lambda x: x[0])\n",
    "        print(f\"  min alpha: {min_score[1]}, min l1: {min_score[2]}\")\n",
    "        print(f\"  min val rmse: {min_score[0]}\")\n",
    "        \n",
    "        linreg = ElasticNet(alpha=min_score[1], l1_ratio= min_score[2], max_iter=1000000000)\n",
    "        linreg.fit(d[date][0], d[date][1])\n",
    "\n",
    "        y_test_pred = linreg.predict(d[str(int(date)+1)][2])\n",
    "        test_rmse = mean_squared_error(d[str(int(date)+1)][3], y_test_pred,squared = False)\n",
    "        print('test rmse: ', test_rmse)\n",
    "\n",
    "alphas, l1_ratio = [1e-4, 1e-3, 1e-2, 1e-1, 1e0, 1e1, 1e2], np.linspace(1e-10, 1, 6)\n",
    "elastic_reg(dictionary, alphas, l1_ratio)"
   ]
  },
  {
   "cell_type": "code",
   "execution_count": 36,
   "metadata": {},
   "outputs": [
    {
     "name": "stdout",
     "output_type": "stream",
     "text": [
      "2002\n",
      "  min max_depth: 25, min max_features: 0.5\n",
      "  min val rmse: 9.836275158391848\n",
      "test rmse:  10.151002853252479\n",
      "2003\n",
      "  min max_depth: 16, min max_features: 0.5\n",
      "  min val rmse: 9.729663954252464\n",
      "test rmse:  10.756206234334087\n",
      "2004\n",
      "  min max_depth: 25, min max_features: 1\n",
      "  min val rmse: 9.92207995714235\n",
      "test rmse:  10.474382715946179\n"
     ]
    }
   ],
   "source": [
    "def rf_reg(d, max_depth, max_features, rs):\n",
    "    dates = ['2002', '2003', '2004']\n",
    "\n",
    "    for date in dates:\n",
    "        print(date)\n",
    "        train_rmse_list = []\n",
    "        val_rmse_list = [] \n",
    "\n",
    "        for depth in max_depth: \n",
    "            for features in max_features:\n",
    "                rf_reg = RandomForestRegressor(max_depth=depth, max_features=features, random_state=rs)\n",
    "\n",
    "                rf_reg.fit(d[date][0], d[date][1].values.ravel())\n",
    "\n",
    "                y_train_pred = rf_reg.predict(d[date][0])\n",
    "                y_val_pred = rf_reg.predict(d[date][2])\n",
    "\n",
    "                train_rmse = mean_squared_error(d[date][1], y_train_pred,squared = False)\n",
    "                train_r2 = r2_score(d[date][1],y_train_pred)\n",
    "\n",
    "                val_rmse = mean_squared_error(d[date][3], y_val_pred, squared = False)\n",
    "                val_r2 = r2_score(d[date][3], y_val_pred)\n",
    "\n",
    "                train_rmse_list.append((train_rmse, depth, features))\n",
    "                val_rmse_list.append((val_rmse, depth, features))\n",
    "\n",
    "        min_score = min(val_rmse_list, key = lambda x: x[0])\n",
    "        print(f\"  min max_depth: {min_score[1]}, min max_features: {min_score[2]}\")\n",
    "        print(f\"  min val rmse: {min_score[0]}\")\n",
    "        \n",
    "        rf_reg = RandomForestRegressor(max_depth=min_score[1], max_features=min_score[2], random_state=rs)\n",
    "        rf_reg.fit(d[date][0], d[date][1].values.ravel())\n",
    "\n",
    "        y_test_pred = rf_reg.predict(d[str(int(date)+1)][2])\n",
    "        test_rmse = mean_squared_error(d[str(int(date)+1)][3], y_test_pred,squared = False)\n",
    "        print('test rmse: ', test_rmse)\n",
    "\n",
    "max_depth = [k**2 for k in range(1,7)] \n",
    "max_features = [.5, .6, .7, .8, .9, 1] \n",
    "rs = 4       \n",
    "        \n",
    "rf_reg(dictionary, max_depth, max_features, rs)"
   ]
  },
  {
   "cell_type": "code",
   "execution_count": 38,
   "metadata": {},
   "outputs": [
    {
     "name": "stdout",
     "output_type": "stream",
     "text": [
      "2002\n",
      "  min kernel: rbf, min gamma: 0.00048828125, min C: 256\n",
      "  min val rmse: 9.422346522016774\n",
      "test rmse:  9.931287403560146\n",
      "2003\n",
      "  min kernel: sigmoid, min gamma: 0.00048828125, min C: 256\n",
      "  min val rmse: 9.43954554021671\n",
      "test rmse:  10.442639335446241\n",
      "2004\n",
      "  min kernel: rbf, min gamma: 0.0001220703125, min C: 128\n",
      "  min val rmse: 10.099305678840777\n",
      "test rmse:  9.440684615695643\n"
     ]
    }
   ],
   "source": [
    "def svm_reg(d, gamma_vals, C_vals, kernels):\n",
    "    dates = ['2002', '2003', '2004']\n",
    "    for date in dates:\n",
    "        print(date)\n",
    "        train_rmse_list = []\n",
    "        val_rmse_list = [] \n",
    "\n",
    "        for gamma in gamma_vals: \n",
    "            for C in C_vals:\n",
    "                for kernel in kernels:\n",
    "                    \n",
    "                    svm_reg = SVR(kernel=kernel, gamma=gamma, C=C)\n",
    "\n",
    "                    svm_reg.fit(d[date][0], d[date][1].values.ravel())\n",
    "\n",
    "                    y_train_pred = svm_reg.predict(d[date][0])\n",
    "                    y_val_pred = svm_reg.predict(d[date][2])\n",
    "\n",
    "                    train_rmse = mean_squared_error(d[date][1], y_train_pred,squared = False)\n",
    "                    train_r2 = r2_score(d[date][1],y_train_pred)\n",
    "\n",
    "                    val_rmse = mean_squared_error(d[date][3], y_val_pred, squared = False)\n",
    "                    val_r2 = r2_score(d[date][3], y_val_pred)\n",
    "\n",
    "                    train_rmse_list.append((train_rmse, kernel, gamma, C))\n",
    "                    val_rmse_list.append((val_rmse, kernel, gamma, C))\n",
    "\n",
    "        min_score = min(val_rmse_list, key = lambda x: x[0])\n",
    "        print(f\"  min kernel: {min_score[1]}, min gamma: {min_score[2]}, min C: {min_score[3]}\")\n",
    "        print(f\"  min val rmse: {min_score[0]}\")\n",
    "        \n",
    "        svm_reg = SVR(kernel=min_score[1], gamma=min_score[2], C=min_score[3])\n",
    "        \n",
    "        svm_reg.fit(d[date][0], d[date][1].values.ravel())\n",
    "\n",
    "        y_test_pred = svm_reg.predict(d[str(int(date)+1)][2])\n",
    "        test_rmse = mean_squared_error(d[str(int(date)+1)][3], y_test_pred,squared = False)\n",
    "        print('test rmse: ', test_rmse)\n",
    "\n",
    "kernel = ['linear', 'poly', 'rbf', 'sigmoid']\n",
    "gamma_vals = [2**k for k in range(-15,-7)]\n",
    "C_vals = [2**k for k in range(5,9)]     \n",
    "kernels = ['linear', 'poly', 'rbf', 'sigmoid']\n",
    "        \n",
    "svm_reg(dictionary, gamma_vals, C_vals, kernels)"
   ]
  },
  {
   "cell_type": "code",
   "execution_count": 39,
   "metadata": {},
   "outputs": [
    {
     "name": "stdout",
     "output_type": "stream",
     "text": [
      "2004\n",
      "  min gamma: 0.0001220703125, min C: 128\n",
      "  min val rmse: 10.099305678840777\n"
     ]
    }
   ],
   "source": [
    "def param_graph_svm_reg(d, gamma_vals, C_vals):\n",
    "    dates = ['2004']\n",
    "    for date in dates:\n",
    "        print(date)\n",
    "        train_rmse_list = []\n",
    "        val_rmse_list = [] \n",
    "\n",
    "        for gamma in gamma_vals: \n",
    "            for C in C_vals:\n",
    "\n",
    "                svm_reg = SVR(kernel='rbf', gamma=gamma, C=C)\n",
    "\n",
    "                svm_reg.fit(d[date][0], d[date][1].values.ravel())\n",
    "\n",
    "                y_train_pred = svm_reg.predict(d[date][0])\n",
    "                y_val_pred = svm_reg.predict(d[date][2])\n",
    "\n",
    "                train_rmse = mean_squared_error(d[date][1], y_train_pred,squared = False)\n",
    "                train_r2 = r2_score(d[date][1],y_train_pred)\n",
    "\n",
    "                val_rmse = mean_squared_error(d[date][3], y_val_pred, squared = False)\n",
    "                val_r2 = r2_score(d[date][3], y_val_pred)\n",
    "\n",
    "                train_rmse_list.append((train_rmse, gamma, C))\n",
    "                val_rmse_list.append((val_rmse, gamma, C))\n",
    "                \n",
    "\n",
    "        min_score = min(val_rmse_list, key = lambda x: x[0])\n",
    "        print(f\"  min gamma: {min_score[1]}, min C: {min_score[2]}\")\n",
    "        print(f\"  min val rmse: {min_score[0]}\")\n",
    "\n",
    "    return val_rmse_list, train_rmse_list\n",
    "\n",
    "gamma_vals = [2**k for k in range(-14,-6)]\n",
    "C_vals = [2**k for k in range(5,9)]     \n",
    "kernels = ['linear', 'poly', 'rbf', 'sigmoid']\n",
    "        \n",
    "val_params, train_params = param_graph_svm_reg(dictionary, gamma_vals, C_vals)"
   ]
  },
  {
   "cell_type": "code",
   "execution_count": 41,
   "metadata": {},
   "outputs": [
    {
     "name": "stdout",
     "output_type": "stream",
     "text": [
      "2004\n"
     ]
    },
    {
     "data": {
      "image/png": "[encoded data removed]",
      "text/plain": [
       "<Figure size 720x576 with 1 Axes>"
      ]
     },
     "metadata": {
      "needs_background": "light"
     },
     "output_type": "display_data"
    },
    {
     "data": {
      "text/plain": [
       "<Figure size 1440x1080 with 0 Axes>"
      ]
     },
     "metadata": {},
     "output_type": "display_data"
    }
   ],
   "source": [
    "from sklearn.svm import SVR\n",
    "#SVR FOR GRAPHING PARAMETERS\n",
    "from sklearn.svm import SVR\n",
    "\n",
    "def pred_graph_svm_reg(d):\n",
    "    dates = ['2004']\n",
    "    for date in dates:\n",
    "        print(date)\n",
    "        train_rmse_list = []\n",
    "        val_rmse_list = [] \n",
    "\n",
    "        svm_reg = SVR(kernel='rbf', gamma=0.0001220703125, C=128)\n",
    "\n",
    "        svm_reg.fit(d[date][0], d[date][1].values.ravel())\n",
    "\n",
    "        y_train_pred = svm_reg.predict(d[date][0])\n",
    "        y_val_pred = svm_reg.predict(d[date][2])\n",
    "\n",
    "        train_rmse = mean_squared_error(d[date][1], y_train_pred,squared = False)\n",
    "        train_r2 = r2_score(d[date][1],y_train_pred)\n",
    "\n",
    "        val_rmse = mean_squared_error(d[date][3], y_val_pred, squared = False)\n",
    "        val_r2 = r2_score(d[date][3], y_val_pred)\n",
    "            \n",
    "        y_test_pred = svm_reg.predict(d[str(int(date)+1)][2])\n",
    "        y_test = d[str(int(date)+1)][3]\n",
    "        plt.figure(figsize=(10,8))\n",
    " \n",
    "        plt.scatter(y_test, y_test_pred)\n",
    "        plt.plot([0,100], [0,100], c='r', label='perfect prediction')\n",
    "        plt.title('2005 Test Data: True vs Predicted', fontsize='25')\n",
    "        \n",
    "        plt.legend()\n",
    "        plt.xlabel('y_true', fontsize='20')\n",
    "        plt.ylabel('y_pred', fontsize='20')\n",
    "        plt.figure(figsize=(20,15))\n",
    "        plt.savefig(f\"../Figures/true_vs_pred.png\", bbox_inches='tight', dpi=600)\n",
    "\n",
    "        \n",
    "pred_graph_svm_reg(dictionary)"
   ]
  },
  {
   "cell_type": "code",
   "execution_count": 42,
   "metadata": {},
   "outputs": [
    {
     "data": {
      "image/png": "[encoded data removed]",
      "text/plain": [
       "<Figure size 432x288 with 2 Axes>"
      ]
     },
     "metadata": {
      "needs_background": "light"
     },
     "output_type": "display_data"
    },
    {
     "data": {
      "image/png": "[encoded data removed]",
      "text/plain": [
       "<Figure size 432x288 with 2 Axes>"
      ]
     },
     "metadata": {
      "needs_background": "light"
     },
     "output_type": "display_data"
    }
   ],
   "source": [
    "zs = [scores[0] for scores in train_params]\n",
    "\n",
    "min_score = min(val_params, key = lambda x: x[0])\n",
    "\n",
    "zs_test = [scores[0] for scores in val_params]\n",
    "\n",
    "z_grid = [[zs[i*4+j] for j in range(4)] for i in range(8)]\n",
    "z_grid_test = [[zs_test[i*4+j] for j in range(4)] for i in range(8)]\n",
    "\n",
    "plt.imshow(z_grid, vmin=np.min(zs), vmax=np.max(zs))\n",
    "\n",
    "plt.xticks([0,1,2,3],C_vals)\n",
    "plt.yticks([i for i in range(len(gamma_vals))], gamma_vals) \n",
    "\n",
    "plt.title(\"Train RMSE\")\n",
    "plt.xlabel(\"C\")\n",
    "plt.ylabel(\"Gamma\")\n",
    "plt.colorbar(label='RMSE')\n",
    "\n",
    "plt.show()\n",
    "\n",
    "plt.imshow(z_grid_test, vmin=np.min(zs), vmax=np.max(zs))\n",
    "\n",
    "plt.xticks([0,1,2,3],C_vals)\n",
    "plt.yticks([i for i in range(len(gamma_vals))], gamma_vals) \n",
    "\n",
    "plt.title(\"Val RMSE\")\n",
    "plt.xlabel(\"C\")\n",
    "plt.ylabel(\"Gamma\")\n",
    "plt.colorbar(label='RMSE')\n",
    "plt.show()"
   ]
  },
  {
   "cell_type": "code",
   "execution_count": 43,
   "metadata": {},
   "outputs": [
    {
     "name": "stdout",
     "output_type": "stream",
     "text": [
      "2002\n",
      "  min n_neighbors: 10, min weight: distance\n",
      "  min val rmse: 10.664408224357585\n",
      "test rmse:  10.70275714640964\n",
      "2003\n",
      "  min n_neighbors: 3, min weight: distance\n",
      "  min val rmse: 10.84167190852617\n",
      "test rmse:  12.168211411851514\n",
      "2004\n",
      "  min n_neighbors: 10, min weight: distance\n",
      "  min val rmse: 10.854537217226392\n",
      "test rmse:  10.030386439961198\n"
     ]
    }
   ],
   "source": [
    "def knn_reg(d, n_neighbors, weights):\n",
    "    dates = ['2002', '2003', '2004']\n",
    "    for date in dates:\n",
    "        print(date)\n",
    "        train_rmse_list = []\n",
    "        val_rmse_list = [] \n",
    "\n",
    "        for n in n_neighbors: \n",
    "            for weight in weights:\n",
    "                knn_reg = KNeighborsRegressor(n_neighbors=n, weights=weight)\n",
    "\n",
    "                knn_reg.fit(d[date][0], d[date][1].values.ravel())\n",
    "\n",
    "                y_train_pred = knn_reg.predict(d[date][0])\n",
    "                y_val_pred = knn_reg.predict(d[date][2])\n",
    "\n",
    "                train_rmse = mean_squared_error(d[date][1], y_train_pred,squared = False)\n",
    "                train_r2 = r2_score(d[date][1],y_train_pred)\n",
    "\n",
    "                val_rmse = mean_squared_error(d[date][3], y_val_pred, squared = False)\n",
    "                val_r2 = r2_score(d[date][3], y_val_pred)\n",
    "\n",
    "                train_rmse_list.append((train_rmse, n, weight))\n",
    "                val_rmse_list.append((val_rmse, n, weight))\n",
    "\n",
    "        min_score = min(val_rmse_list, key = lambda x: x[0])\n",
    "        print(f\"  min n_neighbors: {min_score[1]}, min weight: {min_score[2]}\")\n",
    "        print(f\"  min val rmse: {min_score[0]}\")\n",
    "        \n",
    "        knn_reg = KNeighborsRegressor(n_neighbors=min_score[1], weights=min_score[2])\n",
    "        \n",
    "        knn_reg.fit(d[date][0], d[date][1].values.ravel())\n",
    "\n",
    "        y_test_pred = knn_reg.predict(d[str(int(date)+1)][2])\n",
    "        test_rmse = mean_squared_error(d[str(int(date)+1)][3], y_test_pred,squared = False)\n",
    "        print('test rmse: ', test_rmse)\n",
    "\n",
    "n_neighbors, weights = [1, 3,10,30,100], ['uniform', 'distance']\n",
    "        \n",
    "knn_reg(dictionary,n_neighbors, weights)"
   ]
  },
  {
   "cell_type": "code",
   "execution_count": 48,
   "metadata": {},
   "outputs": [
    {
     "name": "stdout",
     "output_type": "stream",
     "text": [
      "2002\n",
      "  min rate: 0.2, min colsample_bytree: 0.2, min subsample: 1\n",
      "  min val rmse: 9.711404862537798\n",
      "test rmse:  10.327947532286228\n",
      "2003\n",
      "  min rate: 0.2, min colsample_bytree: 0.4, min subsample: 1\n",
      "  min val rmse: 9.771123284079733\n",
      "test rmse:  10.613217901839626\n",
      "2004\n",
      "  min rate: 0.2, min colsample_bytree: 0.8, min subsample: 0.6\n",
      "  min val rmse: 10.469820233724748\n",
      "test rmse:  10.699263636268093\n"
     ]
    }
   ],
   "source": [
    "def xgb_reg(d, learning_rate, colsample_bytree, subsample):\n",
    "    dates = ['2002', '2003', '2004']\n",
    "    scores_best = []\n",
    "    for date in dates:\n",
    "        print(date)\n",
    "        train_rmse_list = []\n",
    "        val_rmse_list = [] \n",
    "\n",
    "        for rate in learning_rate: \n",
    "            for n in colsample_bytree:\n",
    "                for sample in subsample:\n",
    "\n",
    "                    xgb_reg = xgboost.XGBRegressor(eta=rate, colsample_bytree=n, subsample=sample, seed=11)\n",
    "\n",
    "                    xgb_reg.fit(d[date][0], d[date][1].values.ravel())\n",
    "\n",
    "                    y_train_pred = xgb_reg.predict(d[date][0])\n",
    "                    y_val_pred = xgb_reg.predict(d[date][2])\n",
    "\n",
    "                    train_rmse = mean_squared_error(d[date][1], y_train_pred,squared = False)\n",
    "                    train_r2 = r2_score(d[date][1],y_train_pred)\n",
    "\n",
    "                    val_rmse = mean_squared_error(d[date][3], y_val_pred, squared = False)\n",
    "                    val_r2 = r2_score(d[date][3], y_val_pred)\n",
    "\n",
    "                    train_rmse_list.append((train_rmse, rate, n, sample))\n",
    "                    val_rmse_list.append((val_rmse, rate, n, sample))\n",
    "\n",
    "        min_score = min(val_rmse_list, key = lambda x: x[0])\n",
    "        print(f\"  min rate: {min_score[1]}, min colsample_bytree: {min_score[2]}, min subsample: {min_score[3]}\")\n",
    "        print(f\"  min val rmse: {min_score[0]}\")\n",
    "        scores_best.append(min_score[0])\n",
    "        \n",
    "                        \n",
    "        xgb_reg = xgboost.XGBRegressor(eta=min_score[1], colsample_bytree=min_score[2], subsample=min_score[3], seed=11)\n",
    "\n",
    "        \n",
    "        xgb_reg.fit(d[date][0], d[date][1].values.ravel())\n",
    "\n",
    "        y_test_pred = xgb_reg.predict(d[str(int(date)+1)][2])\n",
    "        test_rmse = mean_squared_error(d[str(int(date)+1)][3], y_test_pred,squared = False)\n",
    "        print('test rmse: ', test_rmse)\n",
    "            \n",
    "#    print('average score :', np.mean(scores_best[0:4]))\n",
    "\n",
    "learning_rate = [.2, .4, .6, .8, .9, 1]\n",
    "n_estimators = [10000]\n",
    "seed =[0],\n",
    "missing = [np.nan] \n",
    "colsample_bytree = [.2, .4, .6, .8, .9, 1]              \n",
    "subsample = [.2, .4, .6, .8, .9, 1]\n",
    "        \n",
    "xgb_reg(dictionary, learning_rate, colsample_bytree, subsample)"
   ]
  },
  {
   "cell_type": "code",
   "execution_count": 49,
   "metadata": {},
   "outputs": [
    {
     "name": "stdout",
     "output_type": "stream",
     "text": [
      "test score RMSE =  9.440684615695643\n",
      "shuffling BORO_K\n",
      "   shuffled test rmse score: 9.434 +/- 0.005\n",
      "shuffling BORO_M\n",
      "   shuffled test rmse score: 9.436 +/- 0.004\n",
      "shuffling BORO_Q\n",
      "   shuffled test rmse score: 9.442 +/- 0.001\n",
      "shuffling BORO_R\n",
      "   shuffled test rmse score: 9.44 +/- 0.001\n",
      "shuffling BORO_X\n",
      "   shuffled test rmse score: 9.444 +/- 0.006\n",
      "shuffling Cohort\n",
      "   shuffled test rmse score: 9.441 +/- 0.0\n",
      "shuffling Total Cohort\n",
      "   shuffled test rmse score: 9.404 +/- 0.021\n",
      "shuffling Total Grads - n\n",
      "   shuffled test rmse score: 9.502 +/- 0.012\n",
      "shuffling Total Grads - % of cohort\n",
      "   shuffled test rmse score: 12.041 +/- 0.229\n",
      "shuffling Total Regents - n\n",
      "   shuffled test rmse score: 9.472 +/- 0.013\n",
      "shuffling Total Regents - % of cohort\n",
      "   shuffled test rmse score: 10.334 +/- 0.119\n",
      "shuffling Total Regents - % of grads\n",
      "   shuffled test rmse score: 9.543 +/- 0.018\n",
      "shuffling Advanced Regents - n\n",
      "   shuffled test rmse score: 9.447 +/- 0.005\n",
      "shuffling Advanced Regents - % of cohort\n",
      "   shuffled test rmse score: 9.802 +/- 0.062\n",
      "shuffling Advanced Regents - % of grads\n",
      "   shuffled test rmse score: 9.739 +/- 0.076\n",
      "shuffling Regents w/o Advanced - n\n",
      "   shuffled test rmse score: 9.528 +/- 0.012\n",
      "shuffling Regents w/o Advanced - % of cohort\n",
      "   shuffled test rmse score: 9.924 +/- 0.137\n",
      "shuffling Regents w/o Advanced - % of grads\n",
      "   shuffled test rmse score: 9.443 +/- 0.003\n",
      "shuffling Local - n\n",
      "   shuffled test rmse score: 9.498 +/- 0.014\n",
      "shuffling Local - % of cohort\n",
      "   shuffled test rmse score: 10.046 +/- 0.13\n",
      "shuffling Local - % of grads\n",
      "   shuffled test rmse score: 9.573 +/- 0.032\n",
      "shuffling Still Enrolled - n\n",
      "   shuffled test rmse score: 9.503 +/- 0.071\n",
      "shuffling Still Enrolled - % of cohort\n",
      "   shuffled test rmse score: 11.834 +/- 0.23\n",
      "shuffling Dropped Out - n\n",
      "   shuffled test rmse score: 9.431 +/- 0.022\n",
      "shuffling Dropped Out - % of cohort\n",
      "   shuffled test rmse score: 10.199 +/- 0.099\n",
      "shuffling Income\n",
      "   shuffled test rmse score: 9.442 +/- 0.0\n"
     ]
    }
   ],
   "source": [
    "#PERMUTATION FEATURE IMPORTANCE\n",
    "np.random.seed(42)\n",
    "from sklearn.svm import SVR\n",
    "\n",
    "d = dictionary\n",
    "svm_reg = SVR(kernel='rbf', gamma=0.0001220703125, C=128)\n",
    "\n",
    "svm_reg.fit(d['2004'][0], d['2004'][1].values.ravel())\n",
    "\n",
    "y_test_pred = svm_reg.predict(d['2005'][2])\n",
    "\n",
    "df_test = dictionary['2005'][2]\n",
    "y_test = dictionary['2005'][3]\n",
    "\n",
    "nr_runs = 10\n",
    "scores = np.zeros([len(df_test.columns),nr_runs])\n",
    "baseline = np.mean(y_test)\n",
    "                  \n",
    "print('test score RMSE = ',np.sqrt(mean_squared_error(y_test,y_test_pred)))\n",
    "\n",
    "score_changes = []\n",
    "\n",
    "for i in range(len(df_test.columns)):\n",
    "    print('shuffling '+str(df_test.columns[i]))\n",
    "    rmse_scores = []\n",
    "    for j in range(nr_runs):\n",
    "        \n",
    "        X_test_shuffled = df_test.copy()\n",
    "        X_test_shuffled[df_test.columns[i]] = np.random.permutation(df_test[df_test.columns[i]].values)\n",
    "        \n",
    "        df_test_shuffle = pd.DataFrame(data=X_test_shuffled,columns = df_test.columns)\n",
    "        \n",
    "        y_test_shuffle_pred = svm_reg.predict(df_test_shuffle)\n",
    "    \n",
    "        rmse_scores.append(np.sqrt(mean_squared_error(y_test,y_test_shuffle_pred)))\n",
    "        \n",
    "    print('   shuffled test rmse score:',np.around(np.mean(rmse_scores),3),'+/-',np.around(np.std(rmse_scores),3))\n",
    "\n",
    "    scores[i] = rmse_scores\n",
    "    score_changes.append((i, np.around(np.mean(rmse_scores),3)))\n",
    "\n",
    "important_features_rmse = sorted(score_changes, key = lambda x: x[1])"
   ]
  },
  {
   "cell_type": "code",
   "execution_count": 50,
   "metadata": {},
   "outputs": [
    {
     "data": {
      "image/png": "[encoded data removed]",
      "text/plain": [
       "<Figure size 576x432 with 1 Axes>"
      ]
     },
     "metadata": {
      "needs_background": "light"
     },
     "output_type": "display_data"
    }
   ],
   "source": [
    "sorted_indcs = np.argsort(np.mean(scores,axis=1))[ : :-1][:10]\n",
    "sorted_indcs = sorted_indcs[::-1]\n",
    "plt.rcParams.update({'font.size': 14})\n",
    "plt.figure(figsize=(8,6))\n",
    "plt.boxplot(scores[sorted_indcs].T,labels=df_test.columns[sorted_indcs],vert=False)\n",
    "plt.axvline(np.sqrt(mean_squared_error(y_test,y_test_pred)),label='test score')\n",
    "plt.title(\"Permutation Importances (test set)\")\n",
    "plt.xlabel('Score with Perturbed Feature')\n",
    "plt.legend()\n",
    "plt.tight_layout()\n",
    "plt.savefig(f\"../Figures/svr_feature_perm.png\", bbox_inches='tight', dpi=600)\n",
    "\n",
    "plt.show()"
   ]
  },
  {
   "cell_type": "code",
   "execution_count": 69,
   "metadata": {},
   "outputs": [
    {
     "data": {
      "text/html": [
       "<div>\n",
       "<style scoped>\n",
       "    .dataframe tbody tr th:only-of-type {\n",
       "        vertical-align: middle;\n",
       "    }\n",
       "\n",
       "    .dataframe tbody tr th {\n",
       "        vertical-align: top;\n",
       "    }\n",
       "\n",
       "    .dataframe thead th {\n",
       "        text-align: right;\n",
       "    }\n",
       "</style>\n",
       "<table border=\"1\" class=\"dataframe\">\n",
       "  <thead>\n",
       "    <tr style=\"text-align: right;\">\n",
       "      <th></th>\n",
       "      <th>2003</th>\n",
       "      <th>2004</th>\n",
       "      <th>2005</th>\n",
       "      <th>Average</th>\n",
       "    </tr>\n",
       "  </thead>\n",
       "  <tbody>\n",
       "    <tr>\n",
       "      <th>Baseline</th>\n",
       "      <td>22.056622</td>\n",
       "      <td>21.350414</td>\n",
       "      <td>21.819940</td>\n",
       "      <td>21.742325</td>\n",
       "    </tr>\n",
       "    <tr>\n",
       "      <th>Regression</th>\n",
       "      <td>11.012817</td>\n",
       "      <td>13.536183</td>\n",
       "      <td>11.218995</td>\n",
       "      <td>11.922665</td>\n",
       "    </tr>\n",
       "    <tr>\n",
       "      <th>Lasso</th>\n",
       "      <td>9.880892</td>\n",
       "      <td>10.780907</td>\n",
       "      <td>9.481729</td>\n",
       "      <td>10.047843</td>\n",
       "    </tr>\n",
       "    <tr>\n",
       "      <th>Ridge</th>\n",
       "      <td>9.869369</td>\n",
       "      <td>10.502733</td>\n",
       "      <td>9.562162</td>\n",
       "      <td>9.978088</td>\n",
       "    </tr>\n",
       "    <tr>\n",
       "      <th>Elastic net</th>\n",
       "      <td>9.858229</td>\n",
       "      <td>10.556347</td>\n",
       "      <td>9.539393</td>\n",
       "      <td>9.984657</td>\n",
       "    </tr>\n",
       "    <tr>\n",
       "      <th>Random Forest</th>\n",
       "      <td>10.151003</td>\n",
       "      <td>10.756206</td>\n",
       "      <td>10.474383</td>\n",
       "      <td>10.460531</td>\n",
       "    </tr>\n",
       "    <tr>\n",
       "      <th>SVR</th>\n",
       "      <td>9.931287</td>\n",
       "      <td>10.442639</td>\n",
       "      <td>9.440685</td>\n",
       "      <td>9.938204</td>\n",
       "    </tr>\n",
       "    <tr>\n",
       "      <th>K Neighbors</th>\n",
       "      <td>10.702757</td>\n",
       "      <td>12.168211</td>\n",
       "      <td>10.030386</td>\n",
       "      <td>10.967118</td>\n",
       "    </tr>\n",
       "    <tr>\n",
       "      <th>XGBoost</th>\n",
       "      <td>10.327948</td>\n",
       "      <td>10.613218</td>\n",
       "      <td>10.699264</td>\n",
       "      <td>10.546810</td>\n",
       "    </tr>\n",
       "  </tbody>\n",
       "</table>\n",
       "</div>"
      ],
      "text/plain": [
       "                    2003       2004       2005    Average\n",
       "Baseline       22.056622  21.350414  21.819940  21.742325\n",
       "Regression     11.012817  13.536183  11.218995  11.922665\n",
       "Lasso           9.880892  10.780907   9.481729  10.047843\n",
       "Ridge           9.869369  10.502733   9.562162   9.978088\n",
       "Elastic net     9.858229  10.556347   9.539393   9.984657\n",
       "Random Forest  10.151003  10.756206  10.474383  10.460531\n",
       "SVR             9.931287  10.442639   9.440685   9.938204\n",
       "K Neighbors    10.702757  12.168211  10.030386  10.967118\n",
       "XGBoost        10.327948  10.613218  10.699264  10.546810"
      ]
     },
     "execution_count": 69,
     "metadata": {},
     "output_type": "execute_result"
    }
   ],
   "source": [
    "# final results for models\n",
    "data = [['Baseline', 22.056622278712453, 21.350413614292982, 21.8199395053574],\n",
    "        ['Regression',11.012817331554677, 13.536183328200346, 11.218994724715035], \n",
    "        ['Lasso', 9.88089208082889, 10.78090743255249, 9.481728599431532], \n",
    "        ['Ridge', 9.869369494947964, 10.50273255128286, 9.562161639539573], \n",
    "        ['Elastic net', 9.858229469135654, 10.556346991126958, 9.539393219134638],\n",
    "        ['Random Forest', 10.151002853252479, 10.756206234334087, 10.474382715946179],\n",
    "        ['SVR',  9.931287403560146, 10.442639335446241, 9.440684615695643],\n",
    "        ['K Neighbors', 10.70275714640964, 12.168211411851514, 10.030386439961198],\n",
    "        ['XGBoost', 10.32794757756723, 10.613217939841592, 10.699263727727063]]\n",
    "df_models = pd.DataFrame(data, columns=['Model', 2003, 2004, 2005])\n",
    "df_models['Average'] = df_models[[2003, 2004, 2005]].mean(axis=1)\n",
    "df_models = df_models.rename(index = df_models['Model']).drop('Model', axis=1)\n",
    "df_models"
   ]
  },
  {
   "cell_type": "code",
   "execution_count": 79,
   "metadata": {},
   "outputs": [],
   "source": [
    "import dataframe_image as dfi\n",
    "dfi.export(df_models, \"../Figures/model_df.png\")"
   ]
  },
  {
   "cell_type": "code",
   "execution_count": null,
   "metadata": {},
   "outputs": [],
   "source": []
  },
  {
   "cell_type": "code",
   "execution_count": null,
   "metadata": {},
   "outputs": [],
   "source": [
    " "
   ]
  }
 ],
 "metadata": {
  "kernelspec": {
   "display_name": "Python 3",
   "language": "python",
   "name": "python3"
  },
  "language_info": {
   "codemirror_mode": {
    "name": "ipython",
    "version": 3
   },
   "file_extension": ".py",
   "mimetype": "text/x-python",
   "name": "python",
   "nbconvert_exporter": "python",
   "pygments_lexer": "ipython3",
   "version": "3.8.3"
  }
 },
 "nbformat": 4,
 "nbformat_minor": 4
}
