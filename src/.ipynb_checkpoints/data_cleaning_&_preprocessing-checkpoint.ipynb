{
 "cells": [
  {
   "cell_type": "code",
   "execution_count": 2,
   "metadata": {},
   "outputs": [],
   "source": [
    "import pandas as pd\n",
    "import matplotlib\n",
    "from matplotlib import pylab as plt\n",
    "import numpy as np"
   ]
  },
  {
   "cell_type": "code",
   "execution_count": 3,
   "metadata": {},
   "outputs": [
    {
     "data": {
      "text/plain": [
       "Total Cohort    2493\n",
       "Name: Demographic, dtype: int64"
      ]
     },
     "execution_count": 3,
     "metadata": {},
     "output_type": "execute_result"
    }
   ],
   "source": [
    "df = pd.read_csv('../Data/2005-2010_Graduation_Outcomes_-_School_Level.csv')\n",
    "df = df[df['Demographic'] == 'Total Cohort']\n",
    "df['Demographic'].value_counts()"
   ]
  },
  {
   "cell_type": "code",
   "execution_count": 4,
   "metadata": {},
   "outputs": [
    {
     "data": {
      "text/plain": [
       "0"
      ]
     },
     "execution_count": 4,
     "metadata": {},
     "output_type": "execute_result"
    }
   ],
   "source": [
    "# creates Boro feature from DBN\n",
    "df['BORO'] = [df.loc[i,'DBN'][2] for i in df.index]\n",
    "df['BORO'].isnull().sum()"
   ]
  },
  {
   "cell_type": "code",
   "execution_count": 5,
   "metadata": {},
   "outputs": [],
   "source": [
    "#Median Household Income used to merge with df\n",
    "income_list = [['01', 42065], ['02', 92628], ['03', 110371], ['04', 35344], ['05', 36697], ['06', 41693], \n",
    "               ['07', 18237], ['08', 44490], ['09', 27243], ['10', 24590], ['11', 52782], ['12', 24590], ['13', 67081], \n",
    "               ['14', 39966], ['15', 67081], ['16', 40424], ['17', 48788], ['18', 68888], ['19', 40519], ['20', 63782], \n",
    "               ['21', 33209], ['22', 53997], ['23', 29125], ['24', 53907], ['25', 64493], ['26', 86854], ['27', 60748], \n",
    "               ['28', 60901], ['29', 88630], ['30', 54001], ['31', 78082], ['32', 33485]]\n",
    "df_income = pd.DataFrame(income_list, columns = ['District', 'Income'])"
   ]
  },
  {
   "cell_type": "code",
   "execution_count": 6,
   "metadata": {},
   "outputs": [],
   "source": [
    "# DON'T RUN TWICE!!!!\n",
    "# if run twice 2006 column will be deleted\n",
    "# creates 2006 columns\n",
    "#df = df[(df.Cohort != '2006')]\n",
    "#df.loc[ : , 'Cohort'] = df.loc[ : , 'Cohort'].replace('2006 Aug', '2006')"
   ]
  },
  {
   "cell_type": "code",
   "execution_count": 7,
   "metadata": {},
   "outputs": [
    {
     "data": {
      "text/plain": [
       "Cohort\n",
       "2001    262\n",
       "2002    318\n",
       "2003    346\n",
       "2004    367\n",
       "2005    390\n",
       "2006    405\n",
       "Name: Cohort, dtype: int64"
      ]
     },
     "execution_count": 7,
     "metadata": {},
     "output_type": "execute_result"
    }
   ],
   "source": [
    "df.groupby('Cohort').Cohort.agg('count')"
   ]
  },
  {
   "cell_type": "code",
   "execution_count": 8,
   "metadata": {},
   "outputs": [],
   "source": [
    "# creates district column the merges with income data for each district\n",
    "df['District'] = [df.loc[i,'DBN'][0:2] for i in df.index]\n",
    "df = df.merge(df_income, on='District')"
   ]
  },
  {
   "cell_type": "code",
   "execution_count": 9,
   "metadata": {},
   "outputs": [],
   "source": [
    "# creates target variable of next years graduation rate\n",
    "df.loc[ : ,'Merge Cohort'] = df['Cohort'].astype(int) + 1\n",
    "df.loc[ : ,'Cohort'] = df['Cohort'].astype(int)\n",
    "df_merge = df[['DBN', 'Cohort', 'Total Grads - % of cohort']]\n",
    "df_merge = df_merge.rename(columns={\"Cohort\": \"Cohort 2\", 'Total Grads - % of cohort': 'y'})\n",
    "\n",
    "df_master = df.merge(df_merge, 'left', left_on = ['DBN', 'Merge Cohort'], right_on = ['DBN','Cohort 2'])\n",
    "df_master = df_master.drop(['Merge Cohort', 'Cohort 2'], axis=1)\n",
    "df_master.loc[ : ,'Cohort'] = df_master['Cohort'].astype(str)\n",
    "df = df_master"
   ]
  },
  {
   "cell_type": "code",
   "execution_count": 10,
   "metadata": {},
   "outputs": [],
   "source": [
    "df.to_csv('../Data/cleaned_data2.csv')"
   ]
  },
  {
   "cell_type": "code",
   "execution_count": null,
   "metadata": {},
   "outputs": [],
   "source": []
  }
 ],
 "metadata": {
  "kernelspec": {
   "display_name": "Python 3",
   "language": "python",
   "name": "python3"
  },
  "language_info": {
   "codemirror_mode": {
    "name": "ipython",
    "version": 3
   },
   "file_extension": ".py",
   "mimetype": "text/x-python",
   "name": "python",
   "nbconvert_exporter": "python",
   "pygments_lexer": "ipython3",
   "version": "3.8.3"
  }
 },
 "nbformat": 4,
 "nbformat_minor": 4
}
